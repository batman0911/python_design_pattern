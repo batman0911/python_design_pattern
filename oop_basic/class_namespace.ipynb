{
 "cells": [
  {
   "cell_type": "code",
   "execution_count": 1,
   "id": "85f516f3-5794-4ca5-b53b-8acb799bd67e",
   "metadata": {},
   "outputs": [
    {
     "name": "stdout",
     "output_type": "stream",
     "text": [
      "x inside: global\n",
      "x outside: global\n"
     ]
    }
   ],
   "source": [
    "x = \"global\"\n",
    "\n",
    "def foo():\n",
    "    print(\"x inside:\", x)\n",
    "\n",
    "foo()\n",
    "print(\"x outside:\", x)"
   ]
  },
  {
   "cell_type": "code",
   "execution_count": 42,
   "id": "5270e1f1-8df5-436f-af21-f374f24f0066",
   "metadata": {},
   "outputs": [
    {
     "name": "stdout",
     "output_type": "stream",
     "text": [
      "x inside:  globalglobal\n",
      "x outside:  globalglobal\n"
     ]
    }
   ],
   "source": [
    "# Error if not global\n",
    "x = \"global\"\n",
    "def foo():\n",
    "    global x\n",
    "    x = x * 2\n",
    "    print('x inside: ', x)\n",
    "foo()\n",
    "print('x outside: ', x)"
   ]
  },
  {
   "cell_type": "code",
   "execution_count": 27,
   "id": "4bcc7ff1",
   "metadata": {},
   "outputs": [
    {
     "name": "stdout",
     "output_type": "stream",
     "text": [
      "local\n"
     ]
    }
   ],
   "source": [
    "#Local Vars \n",
    "def foo():\n",
    "    y = \"local\"\n",
    "    print(y)\n",
    "foo()\n",
    "# print(y)"
   ]
  },
  {
   "cell_type": "code",
   "execution_count": 44,
   "id": "1502fd06",
   "metadata": {},
   "outputs": [
    {
     "name": "stdout",
     "output_type": "stream",
     "text": [
      "local x: 10\n",
      "global x: 5\n"
     ]
    }
   ],
   "source": [
    "# x = \"global \"\n",
    "\n",
    "# def foo():\n",
    "#     global x\n",
    "#     y = \"local\"\n",
    "#     x = x * 2\n",
    "#     print(x)\n",
    "#     print(y)\n",
    "\n",
    "# foo()\n",
    "\n",
    "# Same name\n",
    "x = 5\n",
    "\n",
    "def foo():\n",
    "    x = 10\n",
    "    print(\"local x:\", x)\n",
    "foo()\n",
    "print(\"global x:\", x)"
   ]
  },
  {
   "cell_type": "code",
   "execution_count": 37,
   "id": "dc08fa9e",
   "metadata": {},
   "outputs": [
    {
     "name": "stdout",
     "output_type": "stream",
     "text": [
      "inner before assigned: local\n",
      "inner after assigned:  nonlocal\n",
      "outer: nonlocal\n"
     ]
    }
   ],
   "source": [
    "# Nonlocal Variables\n",
    "def outer():\n",
    "    y = \"local\"\n",
    "\n",
    "    def inner():\n",
    "        nonlocal y\n",
    "        print(\"inner before assigned:\", y)\n",
    "        y = \"nonlocal\"\n",
    "        print(\"inner after assigned: \", y)\n",
    "\n",
    "    inner()\n",
    "    print(\"outer:\", y)\n",
    "\n",
    "outer()"
   ]
  },
  {
   "cell_type": "code",
   "execution_count": 60,
   "id": "1c6f009a",
   "metadata": {},
   "outputs": [
    {
     "data": {
      "text/plain": [
       "True"
      ]
     },
     "execution_count": 60,
     "metadata": {},
     "output_type": "execute_result"
    }
   ],
   "source": [
    "class Food:\n",
    "    def __init__(self, name, price, vegan=False):\n",
    "        self.name = name\n",
    "        self.price = price\n",
    "        self.vegan = vegan\n",
    "pizza = Food('pizza', 50000, True)\n",
    "pizza.vegan"
   ]
  },
  {
   "cell_type": "code",
   "execution_count": 59,
   "id": "04318ebe",
   "metadata": {},
   "outputs": [
    {
     "name": "stdout",
     "output_type": "stream",
     "text": [
      "17\n"
     ]
    }
   ],
   "source": [
    "class Employee:\n",
    "    min_age = 16\n",
    "    def __init__(self, name, age, position):\n",
    "        self.name = name\n",
    "        self.position = position\n",
    "        if age < self.min_age:\n",
    "            raise Exception(\"Qua nho tuoi\")\n",
    "\n",
    "# e = Employee('A Phuong', 16, 'Nô tỳ')\n",
    "# e2 = Employee('A Dai', 16, 'Nô tài')\n",
    "# e.min_age = 17\n",
    "# print(e2.min_age)\n",
    "# Employee.min_age = 17\n",
    "# print(e2.min_age)"
   ]
  }
 ],
 "metadata": {
  "kernelspec": {
   "display_name": "Python 3 (ipykernel)",
   "language": "python",
   "name": "python3"
  },
  "language_info": {
   "codemirror_mode": {
    "name": "ipython",
    "version": 3
   },
   "file_extension": ".py",
   "mimetype": "text/x-python",
   "name": "python",
   "nbconvert_exporter": "python",
   "pygments_lexer": "ipython3",
   "version": "3.9.9"
  }
 },
 "nbformat": 4,
 "nbformat_minor": 5
}
